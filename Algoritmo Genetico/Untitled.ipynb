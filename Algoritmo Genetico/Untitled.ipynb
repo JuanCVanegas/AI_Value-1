{
 "cells": [
  {
   "cell_type": "code",
   "execution_count": 1,
   "metadata": {},
   "outputs": [],
   "source": [
    "import pygad\n",
    "import numpy"
   ]
  },
  {
   "cell_type": "code",
   "execution_count": 2,
   "metadata": {},
   "outputs": [],
   "source": [
    "num_generations = 1 # Number of generations.\n",
    "sol_per_pop = 8 # Number of solutions in the population.\n",
    "num_parents_mating = 4 # Number of solutions to be selected as parents in the mating pool.\n",
    "\n",
    "# Parameters of the mutation operation.\n",
    "mutation_percent_genes = 10 # Percentage of genes to mutate. This parameter has no action if the parameter mutation_num_genes exists.\n",
    "mutation_num_genes = None # Number of genes to mutate. If the parameter mutation_num_genes exists, then no need for the parameter mutation_percent_genes.\n",
    "\n",
    "parent_selection_type = \"tournament\" # Type of parent selection.\n",
    "\n",
    "crossover_type = \"two_points\" # Type of the crossover operator.\n",
    "\n",
    "mutation_type = \"scramble\" # Type of the mutation operator.\n",
    "\n",
    "keep_parents = 1 # Number of parents to keep in the next population. -1 means keep all parents and 0 means keep nothing.\n",
    "\n",
    "\"\"\"\n",
    "Given the following function:\n",
    "    y = f(w1:w6) = w1x1 + w2x2 + w3x3 + w4x4 + w5x5 + 6wx6\n",
    "    where (x1,x2,x3,x4,x5,x6)=(4,-2,3.5,5,-11,-4.7) and y=44\n",
    "What are the best values for the 6 weights (w1 to w6)? We are going to use the genetic algorithm to optimize this function.\n",
    "\"\"\"\n",
    "\n",
    "function_inputs = [4,-2,3.5,5,-11,-4.7] # Function inputs.\n",
    "desired_output = 44 # Function output.\n",
    "\n",
    "num_genes = len(function_inputs)"
   ]
  },
  {
   "cell_type": "code",
   "execution_count": null,
   "metadata": {},
   "outputs": [],
   "source": [
    "def fitness_func(solution):\n",
    "    # Calculating the fitness value of each solution in the current population.\n",
    "    # The fitness function calulates the sum of products between each input and its corresponding weight.\n",
    "    #if (numpy.sum(solution)==1):\n",
    "    output = (numpy.sum(solution))/(numpy.sum(solution*function_inputs)+alfa_value)\n",
    "    fitness = 1.0 / numpy.abs(output - desired_output)\n",
    "    #else:\n",
    "    return fitness\n",
    "\n",
    "# Creating an instance of the GA class inside the ga module. Some parameters are initialized within the constructor.\n",
    "ga_instance = pygad.GA(num_generations=num_generations, \n",
    "          sol_per_pop=sol_per_pop, \n",
    "          num_parents_mating=num_parents_mating, \n",
    "          num_genes=num_genes,\n",
    "          fitness_func=fitness_func,\n",
    "          mutation_percent_genes=mutation_percent_genes,\n",
    "          mutation_num_genes=mutation_num_genes,\n",
    "          parent_selection_type=parent_selection_type,\n",
    "          crossover_type=crossover_type,\n",
    "          mutation_type=mutation_type,\n",
    "          keep_parents=keep_parents,\n",
    "          K_tournament=3,\n",
    "          alfa_value=3)\n",
    "\n",
    "# Running the GA to optimize the parameters of the function.\n",
    "ga_instance.run()\n",
    "\n",
    "# After the generations complete, some plots are showed that summarize the how the outputs/fitenss values evolve over generations.\n",
    "ga_instance.plot_result()\n",
    "\n",
    "# Returning the details of the best solution.\n",
    "best_solution, best_solution_fitness = ga_instance.best_solution()\n",
    "print(\"Parameters of the best solution :\", best_solution)\n",
    "print(\"Fitness value of the best solution :\", best_solution_fitness, \"\\n\")\n",
    "\n",
    "# Saving the GA instance.\n",
    "filename = 'genetic' # The filename to which the instance is saved. The name is without extension.\n",
    "ga_instance.save(filename=filename)\n",
    "\n",
    "# Loading the saved GA instance.\n",
    "loaded_ga_instance = pygad.load(filename=filename)\n",
    "print(\"The saved instance of the genetic algorithm is loaded successfully.\")\n",
    "loaded_ga_instance.plot_result()\n",
    "print(loaded_ga_instance.best_solution())"
   ]
  },
  {
   "cell_type": "code",
   "execution_count": null,
   "metadata": {},
   "outputs": [],
   "source": []
  }
 ],
 "metadata": {
  "kernelspec": {
   "display_name": "Python 3",
   "language": "python",
   "name": "python3"
  },
  "language_info": {
   "codemirror_mode": {
    "name": "ipython",
    "version": 3
   },
   "file_extension": ".py",
   "mimetype": "text/x-python",
   "name": "python",
   "nbconvert_exporter": "python",
   "pygments_lexer": "ipython3",
   "version": "3.7.4"
  }
 },
 "nbformat": 4,
 "nbformat_minor": 2
}
