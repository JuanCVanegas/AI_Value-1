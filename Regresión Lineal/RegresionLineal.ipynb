{
  "nbformat": 4,
  "nbformat_minor": 0,
  "metadata": {
    "colab": {
      "name": "Untitled0.ipynb",
      "provenance": []
    },
    "kernelspec": {
      "name": "python3",
      "display_name": "Python 3"
    }
  },
  "cells": [
    {
      "cell_type": "code",
      "metadata": {
        "id": "TSJOQx3aOUDo",
        "colab_type": "code",
        "outputId": "aaec2690-df53-444a-98d6-088aa5b38c35",
        "colab": {
          "base_uri": "https://localhost:8080/",
          "height": 68
        }
      },
      "source": [
        "import pandas as pd\n",
        "import numpy as np\n",
        "import matplotlib.pyplot as plt\n",
        "from sklearn.linear_model import LinearRegression\n",
        "from sklearn.metrics import r2_score\n",
        "import statsmodels.api as sm\n",
        "\n",
        "data = pd.read_csv(\"Data7.csv\")\n",
        "data.head()\n",
        "\n",
        "\n",
        "Xs = data.drop(['DR OF FCF',], axis=1)\n",
        "y = data['DR OF FCF']\n",
        "\n",
        "reg = LinearRegression()\n",
        "reg.fit(Xs, y)\n",
        "\n",
        "print(reg.coef_)\n",
        "print(reg.intercept_)\n",
        "\n",
        "\n",
        "reg.score(Xs, y)\n",
        "\n",
        "\n",
        "#data2 = pd.read_csv(\"Data8.csv\")\n",
        "#data2.head()\n",
        "\n",
        "\n",
        "#Xs2 = data2.drop(['UR OF FCF',], axis=1)\n",
        "#y2 = data2['UR OF FCF']\n",
        "\n",
        "#reg = LinearRegression()\n",
        "#reg.fit(Xs2, y2)\n",
        "\n",
        "#print(reg.coef_)\n",
        "#print(reg.intercept_)\n",
        "\n",
        "\n",
        "#reg.score(Xs2, y2)"
      ],
      "execution_count": 0,
      "outputs": [
        {
          "output_type": "stream",
          "text": [
            "[-0.01740098  0.43393765 -0.21002364  0.06363415]\n",
            "50229.044109194554\n"
          ],
          "name": "stdout"
        },
        {
          "output_type": "execute_result",
          "data": {
            "text/plain": [
              "0.7114708943624828"
            ]
          },
          "metadata": {
            "tags": []
          },
          "execution_count": 5
        }
      ]
    },
    {
      "cell_type": "code",
      "metadata": {
        "id": "RpIYpRmxbszH",
        "colab_type": "code",
        "outputId": "9460493d-b577-412d-d3f9-bb121cf2dbdf",
        "colab": {
          "base_uri": "https://localhost:8080/",
          "height": 68
        }
      },
      "source": [
        "Xs2 = data2.drop(['UR OF FCF',], axis=1)\n",
        "y2 = data2['UR OF FCF']\n",
        "\n",
        "reg = LinearRegression()\n",
        "reg.fit(Xs2, y2)\n",
        "\n",
        "print(reg.coef_)\n",
        "print(reg.intercept_)\n",
        "\n",
        "\n",
        "reg.score(Xs2, y2)"
      ],
      "execution_count": 0,
      "outputs": [
        {
          "output_type": "stream",
          "text": [
            "[-0.3352213   1.2386061   0.69359568 -0.20506669]\n",
            "-5143.973669497878\n"
          ],
          "name": "stdout"
        },
        {
          "output_type": "execute_result",
          "data": {
            "text/plain": [
              "0.763565647743275"
            ]
          },
          "metadata": {
            "tags": []
          },
          "execution_count": 6
        }
      ]
    }
  ]
}